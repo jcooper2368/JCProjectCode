{
 "cells": [
  {
   "cell_type": "code",
   "execution_count": 2,
   "id": "684c367f-29c8-4941-bf3c-48ab20850392",
   "metadata": {},
   "outputs": [
    {
     "name": "stdout",
     "output_type": "stream",
     "text": [
      "        step      type    amount     nameOrig  oldbalanceOrg  newbalanceOrig  \\\n",
      "0          1   PAYMENT   9839.64  C1231006815      170136.00       160296.36   \n",
      "1          1   PAYMENT   1864.28  C1666544295       21249.00        19384.72   \n",
      "2          1  TRANSFER    181.00  C1305486145         181.00            0.00   \n",
      "3          1  CASH_OUT    181.00   C840083671         181.00            0.00   \n",
      "4          1   PAYMENT  11668.14  C2048537720       41554.00        29885.86   \n",
      "...      ...       ...       ...          ...            ...             ...   \n",
      "999994    45   PAYMENT   2987.49  C2072426611      579096.28       576108.80   \n",
      "999995    45   PAYMENT  10913.42  C1384914558      576108.80       565195.38   \n",
      "999996    45   PAYMENT   2014.46  C1207593845      565195.38       563180.92   \n",
      "999997    45   PAYMENT  18839.45   C260638437      563180.92       544341.47   \n",
      "999998    45   PAYMENT  17890.19   C439661237      544341.47       526451.29   \n",
      "\n",
      "           nameDest  oldbalanceDest  newbalanceDest  isFraud  isFlaggedFraud  \\\n",
      "0       M1979787155             0.0             0.0        0               0   \n",
      "1       M2044282225             0.0             0.0        0               0   \n",
      "2        C553264065             0.0             0.0        1               0   \n",
      "3         C38997010         21182.0             0.0        1               0   \n",
      "4       M1230701703             0.0             0.0        0               0   \n",
      "...             ...             ...             ...      ...             ...   \n",
      "999994    M58668896             0.0             0.0        0               0   \n",
      "999995   M166797080             0.0             0.0        0               0   \n",
      "999996  M1027899613             0.0             0.0        0               0   \n",
      "999997   M243388883             0.0             0.0        0               0   \n",
      "999998    M66034502             0.0             0.0        0               0   \n",
      "\n",
      "        y_pred_tuned  \n",
      "0                1.0  \n",
      "1                NaN  \n",
      "2                NaN  \n",
      "3                NaN  \n",
      "4                NaN  \n",
      "...              ...  \n",
      "999994           NaN  \n",
      "999995           NaN  \n",
      "999996           1.0  \n",
      "999997           NaN  \n",
      "999998           NaN  \n",
      "\n",
      "[999999 rows x 12 columns]\n"
     ]
    }
   ],
   "source": [
    "# Load the CSV file into a DataFrame\n",
    "import pandas as pd\n",
    "\n",
    "paysimfin_data_predictions = pd.read_csv('/Users/jasminemoniquecooper/Downloads/paysimfin_data_predictions.csv')\n",
    "\n",
    "pd.set_option('display.max_columns', None)\n",
    "print(paysimfin_data_predictions)\n",
    "     \n",
    "                                         "
   ]
  },
  {
   "cell_type": "code",
   "execution_count": 3,
   "id": "b05f7579-3b9e-45c0-be00-6490179b74d5",
   "metadata": {},
   "outputs": [],
   "source": [
    "# Sampling 10% of the dataset\n",
    "paysimfin_sample = paysimfin_data_predictions.sample(frac=0.1, random_state=42)\n",
    "paysimfin_sample.to_csv('/Users/jasminemoniquecooper/Downloads/paysimfin_data_predictions_sample.csv', index=False)"
   ]
  },
  {
   "cell_type": "code",
   "execution_count": 4,
   "id": "8fdd6c59-cbdc-48a7-85d9-4ae9dbe90f6a",
   "metadata": {},
   "outputs": [
    {
     "name": "stdout",
     "output_type": "stream",
     "text": [
      "        step      type     amount     nameOrig  oldbalanceOrg  newbalanceOrig  \\\n",
      "987230    45  TRANSFER  422698.86  C1403836777       20502.00            0.00   \n",
      "79954     10   CASH_IN  285423.14  C1223059230         510.00       285933.14   \n",
      "567130    23   CASH_IN  176371.13  C2047243429     2227768.61      2404139.74   \n",
      "500891    20  CASH_OUT  283759.53   C813860567        6231.00            0.00   \n",
      "55399      9  CASH_OUT  262268.28   C204225557      104675.00            0.00   \n",
      "...      ...       ...        ...          ...            ...             ...   \n",
      "395942    18   PAYMENT    3535.32  C1434782258           0.00            0.00   \n",
      "417771    18  CASH_OUT  118067.48   C961995822         684.00            0.00   \n",
      "713259    37  CASH_OUT  111011.20   C562079038       31808.00            0.00   \n",
      "794021    40  CASH_OUT   48414.66  C1133909374         545.00            0.00   \n",
      "573083    24  CASH_OUT  414272.31  C2035358310           0.00            0.00   \n",
      "\n",
      "           nameDest  oldbalanceDest  newbalanceDest  isFraud  isFlaggedFraud  \\\n",
      "987230   C355530332      1548167.23      1970866.09        0               0   \n",
      "79954    C708232604          561.00            0.00        0               0   \n",
      "567130  C1614837211      2471996.98      2295625.85        0               0   \n",
      "500891   C603023442      1397807.89      1681567.41        0               0   \n",
      "55399    C426784026        76376.58      1674917.08        0               0   \n",
      "...             ...             ...             ...      ...             ...   \n",
      "395942  M1886478906            0.00            0.00        0               0   \n",
      "417771  C1804326665            0.00       118067.48        0               0   \n",
      "713259    C17114080            0.00       111011.20        0               0   \n",
      "794021    C22845568        49548.80        97963.46        0               0   \n",
      "573083   C700553037       705805.13      1120077.44        0               0   \n",
      "\n",
      "        y_pred_tuned  \n",
      "987230           1.0  \n",
      "79954            0.0  \n",
      "567130           1.0  \n",
      "500891           0.0  \n",
      "55399            0.0  \n",
      "...              ...  \n",
      "395942           0.0  \n",
      "417771           0.0  \n",
      "713259           0.0  \n",
      "794021           0.0  \n",
      "573083           0.0  \n",
      "\n",
      "[100000 rows x 12 columns]\n"
     ]
    }
   ],
   "source": [
    "print(paysimfin_sample)"
   ]
  },
  {
   "cell_type": "code",
   "execution_count": null,
   "id": "85156fc8-2533-4c3b-9d66-2ee47554cf84",
   "metadata": {},
   "outputs": [],
   "source": []
  }
 ],
 "metadata": {
  "kernelspec": {
   "display_name": "Python 3 (ipykernel)",
   "language": "python",
   "name": "python3"
  },
  "language_info": {
   "codemirror_mode": {
    "name": "ipython",
    "version": 3
   },
   "file_extension": ".py",
   "mimetype": "text/x-python",
   "name": "python",
   "nbconvert_exporter": "python",
   "pygments_lexer": "ipython3",
   "version": "3.10.9"
  }
 },
 "nbformat": 4,
 "nbformat_minor": 5
}
